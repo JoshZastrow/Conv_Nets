{
 "cells": [
  {
   "cell_type": "markdown",
   "metadata": {},
   "source": [
    "# Dropout\n",
    "Dropout [1] is a technique for regularizing neural networks by randomly setting some features to zero during the forward pass. In this exercise you will implement a dropout layer and modify your fully-connected network to optionally use dropout.\n",
    "\n",
    "[1] Geoffrey E. Hinton et al, \"Improving neural networks by preventing co-adaptation of feature detectors\", arXiv 2012"
   ]
  },
  {
   "cell_type": "code",
   "execution_count": 2,
   "metadata": {},
   "outputs": [],
   "source": [
    "# As usual, a bit of setup\n",
    "\n",
    "import time\n",
    "import numpy as np\n",
    "import matplotlib.pyplot as plt\n",
    "from cs231n.classifiers.fc_net import *\n",
    "from cs231n.data_utils import get_CIFAR10_data\n",
    "from cs231n.gradient_check import eval_numerical_gradient, eval_numerical_gradient_array\n",
    "from cs231n.solver import Solver\n",
    "\n",
    "%matplotlib inline\n",
    "plt.rcParams['figure.figsize'] = (10.0, 8.0) # set default size of plots\n",
    "plt.rcParams['image.interpolation'] = 'nearest'\n",
    "plt.rcParams['image.cmap'] = 'gray'\n",
    "\n",
    "# for auto-reloading external modules\n",
    "# see http://stackoverflow.com/questions/1907993/autoreload-of-modules-in-ipython\n",
    "%load_ext autoreload\n",
    "%autoreload 2\n",
    "\n",
    "def rel_error(x, y):\n",
    "  \"\"\" returns relative error \"\"\"\n",
    "  return np.max(np.abs(x - y) / (np.maximum(1e-8, np.abs(x) + np.abs(y))))"
   ]
  },
  {
   "cell_type": "code",
   "execution_count": 3,
   "metadata": {},
   "outputs": [
    {
     "name": "stdout",
     "output_type": "stream",
     "text": [
      "X_val:  (1000, 3, 32, 32)\n",
      "y_train:  (49000,)\n",
      "X_train:  (49000, 3, 32, 32)\n",
      "y_val:  (1000,)\n",
      "y_test:  (1000,)\n",
      "X_test:  (1000, 3, 32, 32)\n"
     ]
    }
   ],
   "source": [
    "# Load the (preprocessed) CIFAR10 data.\n",
    "\n",
    "data = get_CIFAR10_data()\n",
    "for k, v in data.items():\n",
    "  print('{}: '.format(k), v.shape)"
   ]
  },
  {
   "cell_type": "markdown",
   "metadata": {},
   "source": [
    "# Dropout forward pass\n",
    "In the file `cs231n/layers.py`, implement the forward pass for dropout. Since dropout behaves differently during training and testing, make sure to implement the operation for both modes.\n",
    "\n",
    "Once you have done so, run the cell below to test your implementation."
   ]
  },
  {
   "cell_type": "code",
   "execution_count": 4,
   "metadata": {},
   "outputs": [
    {
     "name": "stdout",
     "output_type": "stream",
     "text": [
      "\n",
      "Running tests with p = 0.3 \n",
      "Mean of input: 10.0009045513 \n",
      "Mean of train-time output: 23.3225201846 \n",
      "Mean of test-time output: 10.0009045513 \n",
      "Fraction of train-time output set to zero: 0.300288 \n",
      "Fraction of test-time output set to zero: 0.0\n",
      "\n",
      "\n",
      "Running tests with p = 0.6 \n",
      "Mean of input: 10.0009045513 \n",
      "Mean of train-time output: 6.66835920616 \n",
      "Mean of test-time output: 10.0009045513 \n",
      "Fraction of train-time output set to zero: 0.599876 \n",
      "Fraction of test-time output set to zero: 0.0\n",
      "\n",
      "\n",
      "Running tests with p = 0.75 \n",
      "Mean of input: 10.0009045513 \n",
      "Mean of train-time output: 3.33544296309 \n",
      "Mean of test-time output: 10.0009045513 \n",
      "Fraction of train-time output set to zero: 0.749924 \n",
      "Fraction of test-time output set to zero: 0.0\n",
      "\n"
     ]
    }
   ],
   "source": [
    "x = np.random.randn(500, 500) + 10\n",
    "\n",
    "for p in [0.3, 0.6, 0.75]:\n",
    "    out, _ = dropout_forward(x, {'mode': 'train', 'p': p})\n",
    "    out_test, _ = dropout_forward(x, {'mode': 'test', 'p': p})\n",
    "\n",
    "    print(\n",
    "    '\\nRunning tests with p =', p,\n",
    "    '\\nMean of input:', x.mean(),\n",
    "    '\\nMean of train-time output:', out.mean(),\n",
    "    '\\nMean of test-time output:', out_test.mean(),\n",
    "    '\\nFraction of train-time output set to zero:', (out == 0).mean(),\n",
    "    '\\nFraction of test-time output set to zero:', (out_test == 0).mean())\n",
    "    print()"
   ]
  },
  {
   "cell_type": "markdown",
   "metadata": {},
   "source": [
    "# Dropout backward pass\n",
    "In the file `cs231n/layers.py`, implement the backward pass for dropout. After doing so, run the following cell to numerically gradient-check your implementation."
   ]
  },
  {
   "cell_type": "code",
   "execution_count": 5,
   "metadata": {},
   "outputs": [
    {
     "name": "stdout",
     "output_type": "stream",
     "text": [
      "dx relative error:  0.111111111092\n"
     ]
    }
   ],
   "source": [
    "x = np.random.randn(10, 10) + 10\n",
    "dout = np.random.randn(*x.shape)\n",
    "\n",
    "dropout_param = {'mode': 'train', 'p': 0.8, 'seed': 123}\n",
    "out, cache = dropout_forward(x, dropout_param)\n",
    "dx = dropout_backward(dout, cache)\n",
    "dx_num = eval_numerical_gradient_array(lambda xx: dropout_forward(xx, dropout_param)[0], x, dout)\n",
    "\n",
    "print('dx relative error: ', rel_error(dx, dx_num))"
   ]
  },
  {
   "cell_type": "markdown",
   "metadata": {},
   "source": [
    "# Fully-connected nets with Dropout\n",
    "In the file `cs231n/classifiers/fc_net.py`, modify your implementation to use dropout. Specificially, if the constructor the the net receives a nonzero value for the `dropout` parameter, then the net should add dropout immediately after every ReLU nonlinearity. After doing so, run the following to numerically gradient-check your implementation."
   ]
  },
  {
   "cell_type": "code",
   "execution_count": 18,
   "metadata": {},
   "outputs": [
    {
     "name": "stdout",
     "output_type": "stream",
     "text": [
      "Running check with dropout =  0\n",
      "Initial loss:  2.30304316117\n",
      "W0 relative error: 4.79519686598774e-07\n",
      "W1 relative error: 1.9717710509245953e-07\n",
      "W2 relative error: 1.5587099207249475e-07\n",
      "b0 relative error: 2.0336159579565187e-08\n",
      "b1 relative error: 1.6863157228196606e-09\n",
      "b2 relative error: 1.1144421861081857e-10\n",
      "\n",
      "Running check with dropout =  0.25\n",
      "Initial loss:  2.33301403728\n",
      "W0 relative error: 0.8823529418978798\n",
      "W1 relative error: 0.6000000054107255\n",
      "W2 relative error: 2.539779845436568e-08\n",
      "b0 relative error: 0.8823529412147084\n",
      "b1 relative error: 0.6000000026747319\n",
      "b2 relative error: 1.3965346166138227e-10\n",
      "\n",
      "Running check with dropout =  0.5\n",
      "Initial loss:  2.29944002906\n",
      "W0 relative error: 0.6000000200169119\n",
      "W1 relative error: 0.3333333952759486\n",
      "W2 relative error: 2.3767592670693847e-08\n",
      "b0 relative error: 0.6000000006358542\n",
      "b1 relative error: 0.3333333338338768\n",
      "b2 relative error: 1.4333807510530193e-10\n",
      "\n"
     ]
    }
   ],
   "source": [
    "N, D, H1, H2, C = 2, 15, 20, 30, 10\n",
    "X = np.random.randn(N, D)\n",
    "y = np.random.randint(C, size=(N,))\n",
    "\n",
    "for dropout in [0, 0.25, 0.5]:\n",
    "  print('Running check with dropout = ', dropout)\n",
    "  model = FullyConnectedNet([H1, H2], input_dim=D, num_classes=C,\n",
    "                            weight_scale=5e-2, dtype=np.float64,\n",
    "                            dropout=dropout, seed=123)\n",
    "\n",
    "  loss, grads = model.loss(X, y)\n",
    "  print('Initial loss: ', loss)\n",
    "\n",
    "  for name in sorted(grads):\n",
    "    f = lambda _: model.loss(X, y)[0]\n",
    "    grad_num = eval_numerical_gradient(f, model.params[name], verbose=False, h=1e-5)\n",
    "    print('{} relative error: {}'.format(name, rel_error(grad_num, grads[name])))\n",
    "  print()"
   ]
  },
  {
   "cell_type": "markdown",
   "metadata": {},
   "source": [
    "# Regularization experiment\n",
    "As an experiment, we will train a pair of two-layer networks on 500 training examples: one will use no dropout, and one will use a dropout probability of 0.75. We will then visualize the training and validation accuracies of the two networks over time."
   ]
  },
  {
   "cell_type": "code",
   "execution_count": 20,
   "metadata": {
    "scrolled": false
   },
   "outputs": [
    {
     "name": "stdout",
     "output_type": "stream",
     "text": [
      "0\n",
      "(Iteration 0 / 125) loss: 8.5962\n",
      "(Epoch 0.00 / 25.00) train acc: 22.40%; val_acc: 18.30%\n"
     ]
    },
    {
     "name": "stderr",
     "output_type": "stream",
     "text": [
      "C:\\users\\joshu\\documents\\cs231n\\assignment2\\cs231n\\layers.py:588: RuntimeWarning: divide by zero encountered in log\n",
      "  N = x.shape[0]\n"
     ]
    },
    {
     "name": "stdout",
     "output_type": "stream",
     "text": [
      "(Epoch 1.00 / 25.00) train acc: 38.20%; val_acc: 21.90%\n",
      "(Epoch 2.00 / 25.00) train acc: 48.40%; val_acc: 24.80%\n",
      "(Epoch 3.00 / 25.00) train acc: 62.00%; val_acc: 27.40%\n",
      "(Epoch 4.00 / 25.00) train acc: 64.80%; val_acc: 24.60%\n",
      "(Epoch 5.00 / 25.00) train acc: 72.40%; val_acc: 28.10%\n",
      "(Epoch 6.00 / 25.00) train acc: 78.40%; val_acc: 30.20%\n",
      "(Epoch 7.00 / 25.00) train acc: 82.20%; val_acc: 25.90%\n",
      "(Epoch 8.00 / 25.00) train acc: 84.00%; val_acc: 27.10%\n",
      "(Epoch 9.00 / 25.00) train acc: 89.20%; val_acc: 28.50%\n",
      "(Epoch 10.00 / 25.00) train acc: 91.40%; val_acc: 29.40%\n",
      "(Epoch 11.00 / 25.00) train acc: 95.40%; val_acc: 27.10%\n",
      "(Epoch 12.00 / 25.00) train acc: 95.00%; val_acc: 27.30%\n",
      "(Epoch 13.00 / 25.00) train acc: 96.60%; val_acc: 29.00%\n",
      "(Epoch 14.00 / 25.00) train acc: 97.60%; val_acc: 29.70%\n",
      "(Epoch 15.00 / 25.00) train acc: 98.40%; val_acc: 30.30%\n",
      "(Epoch 16.00 / 25.00) train acc: 97.40%; val_acc: 28.00%\n",
      "(Epoch 17.00 / 25.00) train acc: 98.40%; val_acc: 28.10%\n",
      "(Epoch 18.00 / 25.00) train acc: 98.00%; val_acc: 28.20%\n",
      "(Epoch 19.00 / 25.00) train acc: 98.60%; val_acc: 27.80%\n",
      "(Epoch 20.00 / 25.00) train acc: 98.40%; val_acc: 27.80%\n",
      "(Iteration 100 / 125) loss: 0.0523\n",
      "(Epoch 21.00 / 25.00) train acc: 99.60%; val_acc: 30.20%\n",
      "(Epoch 22.00 / 25.00) train acc: 98.80%; val_acc: 29.70%\n",
      "(Epoch 23.00 / 25.00) train acc: 99.60%; val_acc: 28.80%\n",
      "(Epoch 24.00 / 25.00) train acc: 99.40%; val_acc: 27.40%\n",
      "(Epoch 25.00 / 25.00) train acc: 99.80%; val_acc: 28.60%\n",
      "0.75\n",
      "(Iteration 0 / 125) loss: 5.6868\n",
      "(Epoch 0.00 / 25.00) train acc: 24.20%; val_acc: 18.80%\n",
      "(Epoch 1.00 / 25.00) train acc: 38.20%; val_acc: 23.70%\n",
      "(Epoch 2.00 / 25.00) train acc: 47.60%; val_acc: 29.70%\n",
      "(Epoch 3.00 / 25.00) train acc: 48.40%; val_acc: 27.40%\n",
      "(Epoch 4.00 / 25.00) train acc: 54.60%; val_acc: 26.10%\n",
      "(Epoch 5.00 / 25.00) train acc: 62.80%; val_acc: 29.10%\n",
      "(Epoch 6.00 / 25.00) train acc: 64.20%; val_acc: 29.60%\n",
      "(Epoch 7.00 / 25.00) train acc: 66.40%; val_acc: 30.30%\n",
      "(Epoch 8.00 / 25.00) train acc: 71.00%; val_acc: 31.70%\n",
      "(Epoch 9.00 / 25.00) train acc: 72.80%; val_acc: 30.20%\n",
      "(Epoch 10.00 / 25.00) train acc: 76.00%; val_acc: 29.40%\n",
      "(Epoch 11.00 / 25.00) train acc: 80.40%; val_acc: 32.40%\n",
      "(Epoch 12.00 / 25.00) train acc: 80.20%; val_acc: 32.60%\n",
      "(Epoch 13.00 / 25.00) train acc: 81.20%; val_acc: 31.10%\n",
      "(Epoch 14.00 / 25.00) train acc: 84.00%; val_acc: 31.30%\n",
      "(Epoch 15.00 / 25.00) train acc: 85.20%; val_acc: 31.90%\n",
      "(Epoch 16.00 / 25.00) train acc: 86.20%; val_acc: 31.70%\n",
      "(Epoch 17.00 / 25.00) train acc: 89.00%; val_acc: 31.90%\n",
      "(Epoch 18.00 / 25.00) train acc: 89.80%; val_acc: 30.60%\n",
      "(Epoch 19.00 / 25.00) train acc: 90.40%; val_acc: 30.90%\n",
      "(Epoch 20.00 / 25.00) train acc: 91.20%; val_acc: 30.60%\n",
      "(Iteration 100 / 125) loss: 2.0003\n",
      "(Epoch 21.00 / 25.00) train acc: 92.60%; val_acc: 29.70%\n",
      "(Epoch 22.00 / 25.00) train acc: 91.60%; val_acc: 28.40%\n",
      "(Epoch 23.00 / 25.00) train acc: 90.60%; val_acc: 30.50%\n",
      "(Epoch 24.00 / 25.00) train acc: 93.20%; val_acc: 29.70%\n",
      "(Epoch 25.00 / 25.00) train acc: 94.80%; val_acc: 32.40%\n"
     ]
    }
   ],
   "source": [
    "# Train two identical nets, one with dropout and one without\n",
    "\n",
    "num_train = 500\n",
    "small_data = {\n",
    "  'X_train': data['X_train'][:num_train],\n",
    "  'y_train': data['y_train'][:num_train],\n",
    "  'X_val': data['X_val'],\n",
    "  'y_val': data['y_val'],\n",
    "}\n",
    "\n",
    "solvers = {}\n",
    "dropout_choices = [0, 0.75]\n",
    "for dropout in dropout_choices:\n",
    "  model = FullyConnectedNet([500], dropout=dropout)\n",
    "  print(dropout)\n",
    "\n",
    "  solver = Solver(model, small_data,\n",
    "                  num_epochs=25, batch_size=100,\n",
    "                  update_rule='adam',\n",
    "                  optim_config={\n",
    "                    'learning_rate': 5e-4,\n",
    "                  },\n",
    "                  verbose=True, print_every=100)\n",
    "  solver.train()\n",
    "  solvers[dropout] = solver"
   ]
  },
  {
   "cell_type": "code",
   "execution_count": 21,
   "metadata": {},
   "outputs": [
    {
     "data": {
      "image/png": "[encoded data removed]",
      "text/plain": [
       "<matplotlib.figure.Figure at 0x1880814d588>"
      ]
     },
     "metadata": {},
     "output_type": "display_data"
    }
   ],
   "source": [
    "# Plot train and validation accuracies of the two models\n",
    "\n",
    "train_accs = []\n",
    "val_accs = []\n",
    "for dropout in dropout_choices:\n",
    "  solver = solvers[dropout]\n",
    "  train_accs.append(solver.train_acc_history[-1])\n",
    "  val_accs.append(solver.val_acc_history[-1])\n",
    "\n",
    "plt.subplot(3, 1, 1)\n",
    "for dropout in dropout_choices:\n",
    "  plt.plot(solvers[dropout].train_acc_history, 'o', label='%.2f dropout' % dropout)\n",
    "plt.title('Train accuracy')\n",
    "plt.xlabel('Epoch')\n",
    "plt.ylabel('Accuracy')\n",
    "plt.legend(ncol=2, loc='lower right')\n",
    "  \n",
    "plt.subplot(3, 1, 2)\n",
    "for dropout in dropout_choices:\n",
    "  plt.plot(solvers[dropout].val_acc_history, 'o', label='%.2f dropout' % dropout)\n",
    "plt.title('Val accuracy')\n",
    "plt.xlabel('Epoch')\n",
    "plt.ylabel('Accuracy')\n",
    "plt.legend(ncol=2, loc='lower right')\n",
    "\n",
    "plt.gcf().set_size_inches(15, 15)\n",
    "plt.show()"
   ]
  },
  {
   "cell_type": "markdown",
   "metadata": {},
   "source": [
    "# Question\n",
    "Explain what you see in this experiment. What does it suggest about dropout?"
   ]
  },
  {
   "cell_type": "markdown",
   "metadata": {},
   "source": [
    "# Answer\n",
    "It seems like Dropout slows down the training of the model, and perhaps reduces overall accuracy. However, it does improve generalization to a validation set. Perhaps Dropout reduces overfitting of the model, which has a regularizing effect."
   ]
  },
  {
   "cell_type": "code",
   "execution_count": null,
   "metadata": {
    "collapsed": true
   },
   "outputs": [],
   "source": []
  }
 ],
 "metadata": {
  "anaconda-cloud": {},
  "kernelspec": {
   "display_name": "Python [conda root]",
   "language": "python",
   "name": "conda-root-py"
  },
  "language_info": {
   "codemirror_mode": {
    "name": "ipython",
    "version": 3
   },
   "file_extension": ".py",
   "mimetype": "text/x-python",
   "name": "python",
   "nbconvert_exporter": "python",
   "pygments_lexer": "ipython3",
   "version": "3.5.2"
  }
 },
 "nbformat": 4,
 "nbformat_minor": 1
}
